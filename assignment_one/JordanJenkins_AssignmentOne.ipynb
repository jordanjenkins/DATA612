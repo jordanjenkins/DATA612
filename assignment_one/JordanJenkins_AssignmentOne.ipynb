{
 "cells": [
  {
   "cell_type": "markdown",
   "id": "ecological-palace",
   "metadata": {},
   "source": [
    "Jordan Jenkins \n",
    "Data 612  \n",
    "Franklin University  \n",
    "May 23, 2021\n",
    "\n",
    "## Assignment One"
   ]
  }
 ],
 "metadata": {
  "kernelspec": {
   "display_name": "Python 3",
   "language": "python",
   "name": "python3"
  },
  "language_info": {
   "codemirror_mode": {
    "name": "ipython",
    "version": 3
   },
   "file_extension": ".py",
   "mimetype": "text/x-python",
   "name": "python",
   "nbconvert_exporter": "python",
   "pygments_lexer": "ipython3",
   "version": "3.8.5"
  }
 },
 "nbformat": 4,
 "nbformat_minor": 5
}
