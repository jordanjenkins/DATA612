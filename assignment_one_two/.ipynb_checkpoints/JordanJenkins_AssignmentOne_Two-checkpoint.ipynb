{
 "cells": [
  {
   "cell_type": "markdown",
   "id": "particular-watershed",
   "metadata": {
    "id": "particular-watershed"
   },
   "source": [
    "Jordan Jenkins \n",
    "Data 612  \n",
    "Franklin University  \n",
    "May 23, 2021\n",
    "\n",
    "## Assignment One\n",
    "Load and explore the stock dataset provided at: https://raw.githubusercontent.com/frankData612/data_612/master/stock_data/stocks_yahoo.csv.\n",
    "\n",
    "Dataset is provided by the author of the \"Easy And Fun With BeautifulSoup\". Data are extracted from the Yahoo Finance website and include 90 days of data from November 21, 2019 until April 28, 2020. Data are row, current and good for learning purposes.\n"
   ]
  },
  {
   "cell_type": "code",
   "execution_count": 1,
   "id": "steady-theorem",
   "metadata": {
    "id": "steady-theorem"
   },
   "outputs": [],
   "source": [
    "# Import needed libraries\n",
    "import pandas as pd"
   ]
  },
  {
   "cell_type": "code",
   "execution_count": 2,
   "id": "excessive-knitting",
   "metadata": {
    "id": "excessive-knitting"
   },
   "outputs": [],
   "source": [
    "# Read data from source\n",
    "df = pd.read_csv('https://raw.githubusercontent.com/frankData612/data_612/master/stock_data/stocks_yahoo.csv', low_memory = False)"
   ]
  },
  {
   "cell_type": "markdown",
   "id": "minimal-mapping",
   "metadata": {
    "id": "minimal-mapping"
   },
   "source": [
    "### Explore Data"
   ]
  },
  {
   "cell_type": "code",
   "execution_count": 3,
   "id": "decimal-flesh",
   "metadata": {
    "colab": {
     "base_uri": "https://localhost:8080/",
     "height": 902
    },
    "id": "decimal-flesh",
    "outputId": "f3e4dcae-aaed-4334-8dca-42075b6d6749"
   },
   "outputs": [
    {
     "data": {
      "text/html": [
       "<div>\n",
       "<style scoped>\n",
       "    .dataframe tbody tr th:only-of-type {\n",
       "        vertical-align: middle;\n",
       "    }\n",
       "\n",
       "    .dataframe tbody tr th {\n",
       "        vertical-align: top;\n",
       "    }\n",
       "\n",
       "    .dataframe thead th {\n",
       "        text-align: right;\n",
       "    }\n",
       "</style>\n",
       "<table border=\"1\" class=\"dataframe\">\n",
       "  <thead>\n",
       "    <tr style=\"text-align: right;\">\n",
       "      <th></th>\n",
       "      <th>no</th>\n",
       "      <th>date</th>\n",
       "      <th>company_name</th>\n",
       "      <th>price_at_close</th>\n",
       "      <th>price_change</th>\n",
       "      <th>price_after_hours</th>\n",
       "      <th>previous_close</th>\n",
       "      <th>today opened</th>\n",
       "      <th>price range</th>\n",
       "      <th>52 week range</th>\n",
       "      <th>volume</th>\n",
       "      <th>average volume</th>\n",
       "      <th>market cap</th>\n",
       "      <th>beta (3Y Monthly)</th>\n",
       "      <th>PE Ratio</th>\n",
       "      <th>EPS</th>\n",
       "      <th>earnings date</th>\n",
       "      <th>Dividend Yield</th>\n",
       "      <th>1Y target est</th>\n",
       "    </tr>\n",
       "  </thead>\n",
       "  <tbody>\n",
       "    <tr>\n",
       "      <th>0</th>\n",
       "      <td>1</td>\n",
       "      <td>Nov 21 2019</td>\n",
       "      <td>GOOG - Alphabet Inc.</td>\n",
       "      <td>1301.35</td>\n",
       "      <td>-1.70 (-0.13%)</td>\n",
       "      <td>1301.35</td>\n",
       "      <td>1303.05</td>\n",
       "      <td>1301.48</td>\n",
       "      <td>1,293.01 - 1,312.45</td>\n",
       "      <td>970.11 - 1,335.53</td>\n",
       "      <td>825205.00</td>\n",
       "      <td>1280155.0</td>\n",
       "      <td>897.113B</td>\n",
       "      <td>1.01</td>\n",
       "      <td>27.93</td>\n",
       "      <td>46.60</td>\n",
       "      <td>NaN</td>\n",
       "      <td>N/A (N/A)</td>\n",
       "      <td>1487.52</td>\n",
       "    </tr>\n",
       "    <tr>\n",
       "      <th>1</th>\n",
       "      <td>2</td>\n",
       "      <td>Nov 21 2019</td>\n",
       "      <td>GOOGL - Alphabet Inc.</td>\n",
       "      <td>1300.14</td>\n",
       "      <td>-1.72 (-0.13%)</td>\n",
       "      <td>1300.14</td>\n",
       "      <td>1301.86</td>\n",
       "      <td>1299.25</td>\n",
       "      <td>1,290.75 - 1,311.04</td>\n",
       "      <td>977.66 - 1,333.92</td>\n",
       "      <td>1058179.00</td>\n",
       "      <td>1296875.0</td>\n",
       "      <td>897.098B</td>\n",
       "      <td>1.01</td>\n",
       "      <td>27.90</td>\n",
       "      <td>46.60</td>\n",
       "      <td>Feb 3, 2020 - Feb 7, 2020</td>\n",
       "      <td>N/A (N/A)</td>\n",
       "      <td>1459.33</td>\n",
       "    </tr>\n",
       "    <tr>\n",
       "      <th>2</th>\n",
       "      <td>3</td>\n",
       "      <td>Nov 21 2019</td>\n",
       "      <td>IBM - International Business Machines Corporation</td>\n",
       "      <td>133.84</td>\n",
       "      <td>+0.64 (+0.48%)</td>\n",
       "      <td>133.84</td>\n",
       "      <td>133.20</td>\n",
       "      <td>133.40</td>\n",
       "      <td>132.98 - 134.17</td>\n",
       "      <td>105.94 - 152.95</td>\n",
       "      <td>2732256.00</td>\n",
       "      <td>3483052.0</td>\n",
       "      <td>118.534B</td>\n",
       "      <td>1.34</td>\n",
       "      <td>15.55</td>\n",
       "      <td>8.60</td>\n",
       "      <td>21-Jan-20</td>\n",
       "      <td>6.48 (4.86%)</td>\n",
       "      <td>148.30</td>\n",
       "    </tr>\n",
       "    <tr>\n",
       "      <th>3</th>\n",
       "      <td>4</td>\n",
       "      <td>Nov 21 2019</td>\n",
       "      <td>MSFT - Microsoft Corporation</td>\n",
       "      <td>149.48</td>\n",
       "      <td>-0.14 (-0.09%)</td>\n",
       "      <td>149.48</td>\n",
       "      <td>149.62</td>\n",
       "      <td>149.40</td>\n",
       "      <td>148.51 - 149.80</td>\n",
       "      <td>93.96 - 151.33</td>\n",
       "      <td>16125077.00</td>\n",
       "      <td>22813109.0</td>\n",
       "      <td>1.14T</td>\n",
       "      <td>1.23</td>\n",
       "      <td>28.20</td>\n",
       "      <td>5.30</td>\n",
       "      <td>Jan 28, 2020 - Feb 3, 2020</td>\n",
       "      <td>2.04 (1.36%)</td>\n",
       "      <td>160.16</td>\n",
       "    </tr>\n",
       "    <tr>\n",
       "      <th>4</th>\n",
       "      <td>5</td>\n",
       "      <td>Nov 21 2019</td>\n",
       "      <td>AAPL - Apple Inc.</td>\n",
       "      <td>262.01</td>\n",
       "      <td>-1.18 (-0.45%)</td>\n",
       "      <td>262.01</td>\n",
       "      <td>263.19</td>\n",
       "      <td>263.69</td>\n",
       "      <td>261.18 - 264.01</td>\n",
       "      <td>142.00 - 268.00</td>\n",
       "      <td>28768117.00</td>\n",
       "      <td>25813040.0</td>\n",
       "      <td>1.184T</td>\n",
       "      <td>1.25</td>\n",
       "      <td>22.04</td>\n",
       "      <td>11.89</td>\n",
       "      <td>Jan 27, 2020 - Jan 31, 2020</td>\n",
       "      <td>3.08 (1.16%)</td>\n",
       "      <td>257.21</td>\n",
       "    </tr>\n",
       "    <tr>\n",
       "      <th>5</th>\n",
       "      <td>6</td>\n",
       "      <td>Nov 21 2019</td>\n",
       "      <td>AMZN - Amazon.com, Inc.</td>\n",
       "      <td>1734.71</td>\n",
       "      <td>-10.82 (-0.62%)</td>\n",
       "      <td>1734.71</td>\n",
       "      <td>1745.53</td>\n",
       "      <td>1743.00</td>\n",
       "      <td>1,730.46 - 1,746.80</td>\n",
       "      <td>1,307.00 - 2,035.80</td>\n",
       "      <td>2363912.00</td>\n",
       "      <td>2944623.0</td>\n",
       "      <td>860.064B</td>\n",
       "      <td>1.57</td>\n",
       "      <td>76.87</td>\n",
       "      <td>22.57</td>\n",
       "      <td>Jan 29, 2020 - Feb 3, 2020</td>\n",
       "      <td>N/A (N/A)</td>\n",
       "      <td>2183.86</td>\n",
       "    </tr>\n",
       "    <tr>\n",
       "      <th>6</th>\n",
       "      <td>7</td>\n",
       "      <td>Nov 21 2019</td>\n",
       "      <td>CGC - Canopy Growth Corporation</td>\n",
       "      <td>20.29</td>\n",
       "      <td>+2.65 (+15.02%)</td>\n",
       "      <td>20.29</td>\n",
       "      <td>17.64</td>\n",
       "      <td>19.33</td>\n",
       "      <td>18.54 - 21.56</td>\n",
       "      <td>13.81 - 52.74</td>\n",
       "      <td>38160003.00</td>\n",
       "      <td>5954800.0</td>\n",
       "      <td>7.091B</td>\n",
       "      <td>4.11</td>\n",
       "      <td>NaN</td>\n",
       "      <td>-1.79</td>\n",
       "      <td>NaN</td>\n",
       "      <td>N/A (N/A)</td>\n",
       "      <td>NaN</td>\n",
       "    </tr>\n",
       "    <tr>\n",
       "      <th>7</th>\n",
       "      <td>8</td>\n",
       "      <td>Nov 21 2019</td>\n",
       "      <td>ORCL - Oracle Corporation</td>\n",
       "      <td>56.23</td>\n",
       "      <td>-0.01 (-0.02%)</td>\n",
       "      <td>56.23</td>\n",
       "      <td>56.24</td>\n",
       "      <td>56.22</td>\n",
       "      <td>56.12 - 56.59</td>\n",
       "      <td>42.40 - 60.50</td>\n",
       "      <td>7544754.00</td>\n",
       "      <td>11752826.0</td>\n",
       "      <td>184.576B</td>\n",
       "      <td>1.15</td>\n",
       "      <td>18.41</td>\n",
       "      <td>3.06</td>\n",
       "      <td>Dec 16, 2019 - Dec 20, 2019</td>\n",
       "      <td>0.96 (1.70%)</td>\n",
       "      <td>56.27</td>\n",
       "    </tr>\n",
       "    <tr>\n",
       "      <th>8</th>\n",
       "      <td>9</td>\n",
       "      <td>Nov 21 2019</td>\n",
       "      <td>FIVN - Five9, Inc.</td>\n",
       "      <td>65.53</td>\n",
       "      <td>+0.37 (+0.57%)</td>\n",
       "      <td>65.53</td>\n",
       "      <td>65.16</td>\n",
       "      <td>65.29</td>\n",
       "      <td>64.97 - 66.19</td>\n",
       "      <td>36.46 - 66.19</td>\n",
       "      <td>465422.00</td>\n",
       "      <td>637576.0</td>\n",
       "      <td>4.002B</td>\n",
       "      <td>0.64</td>\n",
       "      <td>NaN</td>\n",
       "      <td>-0.03</td>\n",
       "      <td>Feb 17, 2020 - Feb 21, 2020</td>\n",
       "      <td>N/A (N/A)</td>\n",
       "      <td>66.40</td>\n",
       "    </tr>\n",
       "    <tr>\n",
       "      <th>9</th>\n",
       "      <td>10</td>\n",
       "      <td>Nov 21 2019</td>\n",
       "      <td>JPM - JPMorgan Chase &amp; Co.</td>\n",
       "      <td>129.93</td>\n",
       "      <td>+0.30 (+0.23%)</td>\n",
       "      <td>129.93</td>\n",
       "      <td>129.63</td>\n",
       "      <td>130.00</td>\n",
       "      <td>129.39 - 130.72</td>\n",
       "      <td>91.11 - 131.29</td>\n",
       "      <td>7036613.00</td>\n",
       "      <td>10913607.0</td>\n",
       "      <td>407.523B</td>\n",
       "      <td>1.20</td>\n",
       "      <td>12.83</td>\n",
       "      <td>10.13</td>\n",
       "      <td>14-Jan-20</td>\n",
       "      <td>3.60 (2.78%)</td>\n",
       "      <td>123.71</td>\n",
       "    </tr>\n",
       "  </tbody>\n",
       "</table>\n",
       "</div>"
      ],
      "text/plain": [
       "   no         date  ... Dividend Yield  1Y target est\n",
       "0   1  Nov 21 2019  ...      N/A (N/A)        1487.52\n",
       "1   2  Nov 21 2019  ...      N/A (N/A)        1459.33\n",
       "2   3  Nov 21 2019  ...   6.48 (4.86%)         148.30\n",
       "3   4  Nov 21 2019  ...   2.04 (1.36%)         160.16\n",
       "4   5  Nov 21 2019  ...   3.08 (1.16%)         257.21\n",
       "5   6  Nov 21 2019  ...      N/A (N/A)        2183.86\n",
       "6   7  Nov 21 2019  ...      N/A (N/A)            NaN\n",
       "7   8  Nov 21 2019  ...   0.96 (1.70%)          56.27\n",
       "8   9  Nov 21 2019  ...      N/A (N/A)          66.40\n",
       "9  10  Nov 21 2019  ...   3.60 (2.78%)         123.71\n",
       "\n",
       "[10 rows x 19 columns]"
      ]
     },
     "execution_count": 3,
     "metadata": {
      "tags": []
     },
     "output_type": "execute_result"
    }
   ],
   "source": [
    "df.head(n = 10)"
   ]
  },
  {
   "cell_type": "code",
   "execution_count": 4,
   "id": "statewide-genesis",
   "metadata": {
    "colab": {
     "base_uri": "https://localhost:8080/",
     "height": 816
    },
    "id": "statewide-genesis",
    "outputId": "4e17abf7-371f-4656-d6bb-b7fbaf353485"
   },
   "outputs": [
    {
     "data": {
      "text/html": [
       "<div>\n",
       "<style scoped>\n",
       "    .dataframe tbody tr th:only-of-type {\n",
       "        vertical-align: middle;\n",
       "    }\n",
       "\n",
       "    .dataframe tbody tr th {\n",
       "        vertical-align: top;\n",
       "    }\n",
       "\n",
       "    .dataframe thead th {\n",
       "        text-align: right;\n",
       "    }\n",
       "</style>\n",
       "<table border=\"1\" class=\"dataframe\">\n",
       "  <thead>\n",
       "    <tr style=\"text-align: right;\">\n",
       "      <th></th>\n",
       "      <th>no</th>\n",
       "      <th>date</th>\n",
       "      <th>company_name</th>\n",
       "      <th>price_at_close</th>\n",
       "      <th>price_change</th>\n",
       "      <th>price_after_hours</th>\n",
       "      <th>previous_close</th>\n",
       "      <th>today opened</th>\n",
       "      <th>price range</th>\n",
       "      <th>52 week range</th>\n",
       "      <th>volume</th>\n",
       "      <th>average volume</th>\n",
       "      <th>market cap</th>\n",
       "      <th>beta (3Y Monthly)</th>\n",
       "      <th>PE Ratio</th>\n",
       "      <th>EPS</th>\n",
       "      <th>earnings date</th>\n",
       "      <th>Dividend Yield</th>\n",
       "      <th>1Y target est</th>\n",
       "    </tr>\n",
       "  </thead>\n",
       "  <tbody>\n",
       "    <tr>\n",
       "      <th>67895</th>\n",
       "      <td>67896</td>\n",
       "      <td>Apr 28 2020</td>\n",
       "      <td>MDB - MongoDB, Inc.</td>\n",
       "      <td>154.75</td>\n",
       "      <td>-5.62 (-3.51%)</td>\n",
       "      <td>154.75</td>\n",
       "      <td>160.38</td>\n",
       "      <td>164.35</td>\n",
       "      <td>153.95 - 163.00</td>\n",
       "      <td>93.81 - 184.78</td>\n",
       "      <td>709497.00</td>\n",
       "      <td>1276222.0</td>\n",
       "      <td>8.908B</td>\n",
       "      <td>0.52</td>\n",
       "      <td>NaN</td>\n",
       "      <td>-3.14</td>\n",
       "      <td>17-Mar-20</td>\n",
       "      <td>N/A (N/A)</td>\n",
       "      <td>137.25</td>\n",
       "    </tr>\n",
       "    <tr>\n",
       "      <th>67896</th>\n",
       "      <td>67897</td>\n",
       "      <td>Apr 28 2020</td>\n",
       "      <td>BHE - Benchmark Electronics, Inc.</td>\n",
       "      <td>22.12</td>\n",
       "      <td>+0.45 (+2.08%)</td>\n",
       "      <td>22.12</td>\n",
       "      <td>21.67</td>\n",
       "      <td>22.24</td>\n",
       "      <td>21.84 - 22.43</td>\n",
       "      <td>14.06 - 37.36</td>\n",
       "      <td>228007.00</td>\n",
       "      <td>328088.0</td>\n",
       "      <td>805.511M</td>\n",
       "      <td>1.20</td>\n",
       "      <td>36.87</td>\n",
       "      <td>0.60</td>\n",
       "      <td>29-Apr-20</td>\n",
       "      <td>0.64 (2.95%)</td>\n",
       "      <td>24.00</td>\n",
       "    </tr>\n",
       "    <tr>\n",
       "      <th>67897</th>\n",
       "      <td>67898</td>\n",
       "      <td>Apr 28 2020</td>\n",
       "      <td>JBL - Jabil Inc.</td>\n",
       "      <td>26.85</td>\n",
       "      <td>+0.36 (+1.36%)</td>\n",
       "      <td>26.85</td>\n",
       "      <td>26.49</td>\n",
       "      <td>27.43</td>\n",
       "      <td>26.41 - 27.60</td>\n",
       "      <td>17.63 - 44.20</td>\n",
       "      <td>941616.00</td>\n",
       "      <td>1798717.0</td>\n",
       "      <td>4.047B</td>\n",
       "      <td>1.26</td>\n",
       "      <td>31.44</td>\n",
       "      <td>0.85</td>\n",
       "      <td>Jun 16, 2020 - Jun 22, 2020</td>\n",
       "      <td>0.32 (1.21%)</td>\n",
       "      <td>34.13</td>\n",
       "    </tr>\n",
       "    <tr>\n",
       "      <th>67898</th>\n",
       "      <td>67899</td>\n",
       "      <td>Apr 28 2020</td>\n",
       "      <td>SANM - Sanmina Corporation</td>\n",
       "      <td>26.93</td>\n",
       "      <td>-0.98 (-3.51%)</td>\n",
       "      <td>26.93</td>\n",
       "      <td>27.91</td>\n",
       "      <td>26.51</td>\n",
       "      <td>25.69 - 27.77</td>\n",
       "      <td>18.34 - 34.96</td>\n",
       "      <td>674415.00</td>\n",
       "      <td>553044.0</td>\n",
       "      <td>1.902B</td>\n",
       "      <td>NaN</td>\n",
       "      <td>18.43</td>\n",
       "      <td>1.46</td>\n",
       "      <td>Jul 27, 2020 - Jul 31, 2020</td>\n",
       "      <td>N/A (N/A)</td>\n",
       "      <td>28.00</td>\n",
       "    </tr>\n",
       "    <tr>\n",
       "      <th>67899</th>\n",
       "      <td>67900</td>\n",
       "      <td>Apr 28 2020</td>\n",
       "      <td>PLXS - Plexus Corp.</td>\n",
       "      <td>62.36</td>\n",
       "      <td>+1.80 (+2.97%)</td>\n",
       "      <td>62.36</td>\n",
       "      <td>60.56</td>\n",
       "      <td>61.77</td>\n",
       "      <td>61.77 - 64.18</td>\n",
       "      <td>35.16 - 86.53</td>\n",
       "      <td>220017.00</td>\n",
       "      <td>188241.0</td>\n",
       "      <td>1.82B</td>\n",
       "      <td>1.04</td>\n",
       "      <td>17.83</td>\n",
       "      <td>3.50</td>\n",
       "      <td>Jul 15, 2020 - Jul 20, 2020</td>\n",
       "      <td>N/A (N/A)</td>\n",
       "      <td>66.75</td>\n",
       "    </tr>\n",
       "    <tr>\n",
       "      <th>67900</th>\n",
       "      <td>67901</td>\n",
       "      <td>Apr 28 2020</td>\n",
       "      <td>FLEX - Flex Ltd.</td>\n",
       "      <td>9.11</td>\n",
       "      <td>+0.30 (+3.41%)</td>\n",
       "      <td>9.11</td>\n",
       "      <td>8.81</td>\n",
       "      <td>9.11</td>\n",
       "      <td>8.87 - 9.31</td>\n",
       "      <td>5.36 - 14.00</td>\n",
       "      <td>4175426.00</td>\n",
       "      <td>5924769.0</td>\n",
       "      <td>4.591B</td>\n",
       "      <td>1.88</td>\n",
       "      <td>NaN</td>\n",
       "      <td>-0.05</td>\n",
       "      <td>7-May-20</td>\n",
       "      <td>N/A (N/A)</td>\n",
       "      <td>12.83</td>\n",
       "    </tr>\n",
       "    <tr>\n",
       "      <th>67901</th>\n",
       "      <td>67902</td>\n",
       "      <td>Apr 28 2020</td>\n",
       "      <td>MEI - Methode Electronics, Inc.</td>\n",
       "      <td>29.84</td>\n",
       "      <td>+0.32 (+1.08%)</td>\n",
       "      <td>29.84</td>\n",
       "      <td>29.52</td>\n",
       "      <td>30.19</td>\n",
       "      <td>29.70 - 30.75</td>\n",
       "      <td>21.76 - 41.70</td>\n",
       "      <td>206184.00</td>\n",
       "      <td>236257.0</td>\n",
       "      <td>1.107B</td>\n",
       "      <td>1.43</td>\n",
       "      <td>9.72</td>\n",
       "      <td>3.07</td>\n",
       "      <td>Jun 18, 2020 - Jun 22, 2020</td>\n",
       "      <td>0.44 (1.49%)</td>\n",
       "      <td>33.33</td>\n",
       "    </tr>\n",
       "    <tr>\n",
       "      <th>67902</th>\n",
       "      <td>67903</td>\n",
       "      <td>Apr 28 2020</td>\n",
       "      <td>IEC - IEC Electronics Corp.</td>\n",
       "      <td>7.01</td>\n",
       "      <td>0.00 (0.00%)</td>\n",
       "      <td>7.01</td>\n",
       "      <td>7.01</td>\n",
       "      <td>7.10</td>\n",
       "      <td>6.93 - 7.10</td>\n",
       "      <td>5.00 - 9.57</td>\n",
       "      <td>3880.00</td>\n",
       "      <td>34352.0</td>\n",
       "      <td>72.812M</td>\n",
       "      <td>0.94</td>\n",
       "      <td>15.24</td>\n",
       "      <td>0.46</td>\n",
       "      <td>6-May-20</td>\n",
       "      <td>N/A (N/A)</td>\n",
       "      <td>11.50</td>\n",
       "    </tr>\n",
       "    <tr>\n",
       "      <th>67903</th>\n",
       "      <td>67904</td>\n",
       "      <td>Apr 28 2020</td>\n",
       "      <td>MGLN - Magellan Health, Inc.</td>\n",
       "      <td>55.11</td>\n",
       "      <td>-0.03 (-0.05%)</td>\n",
       "      <td>55.11</td>\n",
       "      <td>55.14</td>\n",
       "      <td>54.74</td>\n",
       "      <td>53.28 - 56.21</td>\n",
       "      <td>30.60 - 81.04</td>\n",
       "      <td>167075.00</td>\n",
       "      <td>193042.0</td>\n",
       "      <td>1.361B</td>\n",
       "      <td>0.97</td>\n",
       "      <td>24.17</td>\n",
       "      <td>2.28</td>\n",
       "      <td>11-May-20</td>\n",
       "      <td>N/A (N/A)</td>\n",
       "      <td>67.67</td>\n",
       "    </tr>\n",
       "    <tr>\n",
       "      <th>67904</th>\n",
       "      <td>67905</td>\n",
       "      <td>Apr 28 2020</td>\n",
       "      <td>ZS - Zscaler, Inc.</td>\n",
       "      <td>66.72</td>\n",
       "      <td>-3.75 (-5.32%)</td>\n",
       "      <td>66.72</td>\n",
       "      <td>70.47</td>\n",
       "      <td>71.00</td>\n",
       "      <td>66.26 - 71.20</td>\n",
       "      <td>35.00 - 89.54</td>\n",
       "      <td>3035697.00</td>\n",
       "      <td>3062403.0</td>\n",
       "      <td>8.63B</td>\n",
       "      <td>0.54</td>\n",
       "      <td>NaN</td>\n",
       "      <td>-0.50</td>\n",
       "      <td>20-Feb-20</td>\n",
       "      <td>N/A (N/A)</td>\n",
       "      <td>67.62</td>\n",
       "    </tr>\n",
       "  </tbody>\n",
       "</table>\n",
       "</div>"
      ],
      "text/plain": [
       "          no         date  ... Dividend Yield  1Y target est\n",
       "67895  67896  Apr 28 2020  ...      N/A (N/A)         137.25\n",
       "67896  67897  Apr 28 2020  ...   0.64 (2.95%)          24.00\n",
       "67897  67898  Apr 28 2020  ...   0.32 (1.21%)          34.13\n",
       "67898  67899  Apr 28 2020  ...      N/A (N/A)          28.00\n",
       "67899  67900  Apr 28 2020  ...      N/A (N/A)          66.75\n",
       "67900  67901  Apr 28 2020  ...      N/A (N/A)          12.83\n",
       "67901  67902  Apr 28 2020  ...   0.44 (1.49%)          33.33\n",
       "67902  67903  Apr 28 2020  ...      N/A (N/A)          11.50\n",
       "67903  67904  Apr 28 2020  ...      N/A (N/A)          67.67\n",
       "67904  67905  Apr 28 2020  ...      N/A (N/A)          67.62\n",
       "\n",
       "[10 rows x 19 columns]"
      ]
     },
     "execution_count": 4,
     "metadata": {
      "tags": []
     },
     "output_type": "execute_result"
    }
   ],
   "source": [
    "df.tail(n = 10)"
   ]
  },
  {
   "cell_type": "code",
   "execution_count": 5,
   "id": "arctic-double",
   "metadata": {
    "colab": {
     "base_uri": "https://localhost:8080/"
    },
    "id": "arctic-double",
    "outputId": "ae80c9ed-5f6e-4c3c-d945-fe9896eee5c7"
   },
   "outputs": [
    {
     "name": "stdout",
     "output_type": "stream",
     "text": [
      "Columns:\n",
      "no\n",
      "date\n",
      "company_name\n",
      "price_at_close\n",
      "price_change\n",
      "price_after_hours\n",
      "previous_close\n",
      "today opened\n",
      "price range\n",
      "52 week range\n",
      "volume\n",
      "average volume\n",
      "market cap\n",
      "beta (3Y Monthly)\n",
      "PE Ratio\n",
      "EPS\n",
      "earnings date\n",
      "Dividend Yield\n",
      "1Y target est\n"
     ]
    }
   ],
   "source": [
    "print(\"Columns:\")\n",
    "for col in df.columns:\n",
    "    print(col)"
   ]
  },
  {
   "cell_type": "code",
   "execution_count": 6,
   "id": "dense-combining",
   "metadata": {
    "colab": {
     "base_uri": "https://localhost:8080/"
    },
    "id": "dense-combining",
    "outputId": "271f7bc0-90ae-49c1-98ff-0bae10588a74"
   },
   "outputs": [
    {
     "data": {
      "text/plain": [
       "pandas.core.frame.DataFrame"
      ]
     },
     "execution_count": 6,
     "metadata": {
      "tags": []
     },
     "output_type": "execute_result"
    }
   ],
   "source": [
    "type(df)"
   ]
  },
  {
   "cell_type": "markdown",
   "id": "billion-vulnerability",
   "metadata": {
    "id": "billion-vulnerability"
   },
   "source": [
    "Overall, the dataset is a pandas data frame. Below, are the types of each column in the dataset."
   ]
  },
  {
   "cell_type": "code",
   "execution_count": 7,
   "id": "structural-official",
   "metadata": {
    "colab": {
     "base_uri": "https://localhost:8080/"
    },
    "id": "structural-official",
    "outputId": "00963882-dc44-4ad7-8770-4d293d14b3b1"
   },
   "outputs": [
    {
     "name": "stdout",
     "output_type": "stream",
     "text": [
      "<class 'pandas.core.frame.DataFrame'>\n",
      "RangeIndex: 67905 entries, 0 to 67904\n",
      "Data columns (total 19 columns):\n",
      " #   Column             Non-Null Count  Dtype  \n",
      "---  ------             --------------  -----  \n",
      " 0   no                 67905 non-null  int64  \n",
      " 1   date               67905 non-null  object \n",
      " 2   company_name       67905 non-null  object \n",
      " 3   price_at_close     67761 non-null  float64\n",
      " 4   price_change       67761 non-null  object \n",
      " 5   price_after_hours  67761 non-null  float64\n",
      " 6   previous_close     67761 non-null  float64\n",
      " 7   today opened       67750 non-null  float64\n",
      " 8   price range        67756 non-null  object \n",
      " 9   52 week range      67657 non-null  object \n",
      " 10  volume             67752 non-null  object \n",
      " 11  average volume     66584 non-null  float64\n",
      " 12  market cap         67298 non-null  object \n",
      " 13  beta (3Y Monthly)  63163 non-null  float64\n",
      " 14  PE Ratio           60220 non-null  float64\n",
      " 15  EPS                64962 non-null  float64\n",
      " 16  earnings date      57611 non-null  object \n",
      " 17  Dividend Yield     67625 non-null  object \n",
      " 18  1Y target est      57931 non-null  float64\n",
      "dtypes: float64(9), int64(1), object(9)\n",
      "memory usage: 9.8+ MB\n"
     ]
    }
   ],
   "source": [
    "df.info()"
   ]
  },
  {
   "cell_type": "code",
   "execution_count": 8,
   "id": "sorted-conversion",
   "metadata": {
    "colab": {
     "base_uri": "https://localhost:8080/"
    },
    "id": "sorted-conversion",
    "outputId": "4cb748d7-a25e-4931-f002-bc15bcec8665"
   },
   "outputs": [
    {
     "name": "stdout",
     "output_type": "stream",
     "text": [
      "\n",
      "    Rows: 67905\n",
      "    Columns: 19\n",
      "    \n"
     ]
    }
   ],
   "source": [
    "print(f\"\"\"\n",
    "    Rows: {df.shape[0]}\n",
    "    Columns: {df.shape[1]}\n",
    "    \"\"\"\n",
    ")"
   ]
  },
  {
   "cell_type": "code",
   "execution_count": 9,
   "id": "suffering-freedom",
   "metadata": {
    "id": "suffering-freedom"
   },
   "outputs": [],
   "source": [
    "# convert date to datetime so it can be used for grouping\n",
    "df['date'] = pd.to_datetime(df['date'])"
   ]
  },
  {
   "cell_type": "code",
   "execution_count": 10,
   "id": "three-pitch",
   "metadata": {
    "id": "three-pitch"
   },
   "outputs": [],
   "source": [
    "# Select date, company, average volume and 1Y target estimate.\n",
    "df_sub = df[[\"date\", \"company_name\", \"average volume\", \"1Y target est\"]]"
   ]
  },
  {
   "cell_type": "markdown",
   "id": "basic-beginning",
   "metadata": {
    "id": "basic-beginning"
   },
   "source": [
    "Group the average volume and 1Y estimate by company and week, giving a weekly average of these values for each company."
   ]
  },
  {
   "cell_type": "code",
   "execution_count": 11,
   "id": "trying-statement",
   "metadata": {
    "colab": {
     "base_uri": "https://localhost:8080/",
     "height": 454
    },
    "id": "trying-statement",
    "outputId": "94f0ee22-483d-4050-afda-827130f9cdfe"
   },
   "outputs": [
    {
     "data": {
      "text/html": [
       "<div>\n",
       "<style scoped>\n",
       "    .dataframe tbody tr th:only-of-type {\n",
       "        vertical-align: middle;\n",
       "    }\n",
       "\n",
       "    .dataframe tbody tr th {\n",
       "        vertical-align: top;\n",
       "    }\n",
       "\n",
       "    .dataframe thead th {\n",
       "        text-align: right;\n",
       "    }\n",
       "</style>\n",
       "<table border=\"1\" class=\"dataframe\">\n",
       "  <thead>\n",
       "    <tr style=\"text-align: right;\">\n",
       "      <th></th>\n",
       "      <th></th>\n",
       "      <th>average volume</th>\n",
       "      <th>1Y target est</th>\n",
       "    </tr>\n",
       "    <tr>\n",
       "      <th>company_name</th>\n",
       "      <th>week</th>\n",
       "      <th></th>\n",
       "      <th></th>\n",
       "    </tr>\n",
       "  </thead>\n",
       "  <tbody>\n",
       "    <tr>\n",
       "      <th rowspan=\"5\" valign=\"top\">A - Agilent Technologies, Inc.</th>\n",
       "      <th>1</th>\n",
       "      <td>1.575147e+06</td>\n",
       "      <td>86.210000</td>\n",
       "    </tr>\n",
       "    <tr>\n",
       "      <th>2</th>\n",
       "      <td>1.564388e+06</td>\n",
       "      <td>86.570000</td>\n",
       "    </tr>\n",
       "    <tr>\n",
       "      <th>3</th>\n",
       "      <td>1.588352e+06</td>\n",
       "      <td>88.810000</td>\n",
       "    </tr>\n",
       "    <tr>\n",
       "      <th>4</th>\n",
       "      <td>1.621622e+06</td>\n",
       "      <td>88.810000</td>\n",
       "    </tr>\n",
       "    <tr>\n",
       "      <th>5</th>\n",
       "      <td>1.679954e+06</td>\n",
       "      <td>90.060000</td>\n",
       "    </tr>\n",
       "    <tr>\n",
       "      <th>...</th>\n",
       "      <th>...</th>\n",
       "      <td>...</td>\n",
       "      <td>...</td>\n",
       "    </tr>\n",
       "    <tr>\n",
       "      <th rowspan=\"5\" valign=\"top\">ZYNE - Zynerba Pharmaceuticals, Inc.</th>\n",
       "      <th>14</th>\n",
       "      <td>6.070563e+05</td>\n",
       "      <td>15.710000</td>\n",
       "    </tr>\n",
       "    <tr>\n",
       "      <th>15</th>\n",
       "      <td>5.950563e+05</td>\n",
       "      <td>15.710000</td>\n",
       "    </tr>\n",
       "    <tr>\n",
       "      <th>16</th>\n",
       "      <td>5.591173e+05</td>\n",
       "      <td>15.710000</td>\n",
       "    </tr>\n",
       "    <tr>\n",
       "      <th>17</th>\n",
       "      <td>5.378160e+05</td>\n",
       "      <td>15.583333</td>\n",
       "    </tr>\n",
       "    <tr>\n",
       "      <th>18</th>\n",
       "      <td>5.354520e+05</td>\n",
       "      <td>15.330000</td>\n",
       "    </tr>\n",
       "  </tbody>\n",
       "</table>\n",
       "<p>20266 rows × 2 columns</p>\n",
       "</div>"
      ],
      "text/plain": [
       "                                           average volume  1Y target est\n",
       "company_name                         week                               \n",
       "A - Agilent Technologies, Inc.       1       1.575147e+06      86.210000\n",
       "                                     2       1.564388e+06      86.570000\n",
       "                                     3       1.588352e+06      88.810000\n",
       "                                     4       1.621622e+06      88.810000\n",
       "                                     5       1.679954e+06      90.060000\n",
       "...                                                   ...            ...\n",
       "ZYNE - Zynerba Pharmaceuticals, Inc. 14      6.070563e+05      15.710000\n",
       "                                     15      5.950563e+05      15.710000\n",
       "                                     16      5.591173e+05      15.710000\n",
       "                                     17      5.378160e+05      15.583333\n",
       "                                     18      5.354520e+05      15.330000\n",
       "\n",
       "[20266 rows x 2 columns]"
      ]
     },
     "execution_count": 11,
     "metadata": {
      "tags": []
     },
     "output_type": "execute_result"
    }
   ],
   "source": [
    "df_sub.groupby(['company_name', df_sub['date'].dt.isocalendar().week]).mean()"
   ]
  },
  {
   "cell_type": "markdown",
   "id": "lovely-fitting",
   "metadata": {
    "id": "lovely-fitting"
   },
   "source": [
    "## Assignment Two\n",
    "Save the dataset as a csv file.\n",
    "Upload the assignment on your GitHub account and Update the README file where you explain everything you did."
   ]
  },
  {
   "cell_type": "code",
   "execution_count": 12,
   "id": "future-walter",
   "metadata": {
    "colab": {
     "base_uri": "https://localhost:8080/",
     "height": 520
    },
    "id": "future-walter",
    "outputId": "e224cd7a-7f13-4628-afee-acff1ade48bc"
   },
   "outputs": [
    {
     "data": {
      "text/html": [
       "<div>\n",
       "<style scoped>\n",
       "    .dataframe tbody tr th:only-of-type {\n",
       "        vertical-align: middle;\n",
       "    }\n",
       "\n",
       "    .dataframe tbody tr th {\n",
       "        vertical-align: top;\n",
       "    }\n",
       "\n",
       "    .dataframe thead th {\n",
       "        text-align: right;\n",
       "    }\n",
       "</style>\n",
       "<table border=\"1\" class=\"dataframe\">\n",
       "  <thead>\n",
       "    <tr style=\"text-align: right;\">\n",
       "      <th></th>\n",
       "      <th>no</th>\n",
       "      <th>date</th>\n",
       "      <th>company_name</th>\n",
       "      <th>price_at_close</th>\n",
       "      <th>price_change</th>\n",
       "      <th>price_after_hours</th>\n",
       "      <th>previous_close</th>\n",
       "      <th>today opened</th>\n",
       "      <th>price range</th>\n",
       "      <th>52 week range</th>\n",
       "      <th>volume</th>\n",
       "      <th>average volume</th>\n",
       "      <th>market cap</th>\n",
       "      <th>beta (3Y Monthly)</th>\n",
       "      <th>PE Ratio</th>\n",
       "      <th>EPS</th>\n",
       "      <th>earnings date</th>\n",
       "      <th>Dividend Yield</th>\n",
       "      <th>1Y target est</th>\n",
       "    </tr>\n",
       "  </thead>\n",
       "  <tbody>\n",
       "    <tr>\n",
       "      <th>0</th>\n",
       "      <td>1</td>\n",
       "      <td>2019-11-21</td>\n",
       "      <td>GOOG - Alphabet Inc.</td>\n",
       "      <td>1301.35</td>\n",
       "      <td>-1.70 (-0.13%)</td>\n",
       "      <td>1301.35</td>\n",
       "      <td>1303.05</td>\n",
       "      <td>1301.48</td>\n",
       "      <td>1,293.01 - 1,312.45</td>\n",
       "      <td>970.11 - 1,335.53</td>\n",
       "      <td>825205.00</td>\n",
       "      <td>1280155.0</td>\n",
       "      <td>897.113B</td>\n",
       "      <td>1.01</td>\n",
       "      <td>27.93</td>\n",
       "      <td>46.60</td>\n",
       "      <td>NaN</td>\n",
       "      <td>N/A (N/A)</td>\n",
       "      <td>1487.52</td>\n",
       "    </tr>\n",
       "    <tr>\n",
       "      <th>1</th>\n",
       "      <td>2</td>\n",
       "      <td>2019-11-21</td>\n",
       "      <td>GOOGL - Alphabet Inc.</td>\n",
       "      <td>1300.14</td>\n",
       "      <td>-1.72 (-0.13%)</td>\n",
       "      <td>1300.14</td>\n",
       "      <td>1301.86</td>\n",
       "      <td>1299.25</td>\n",
       "      <td>1,290.75 - 1,311.04</td>\n",
       "      <td>977.66 - 1,333.92</td>\n",
       "      <td>1058179.00</td>\n",
       "      <td>1296875.0</td>\n",
       "      <td>897.098B</td>\n",
       "      <td>1.01</td>\n",
       "      <td>27.90</td>\n",
       "      <td>46.60</td>\n",
       "      <td>Feb 3, 2020 - Feb 7, 2020</td>\n",
       "      <td>N/A (N/A)</td>\n",
       "      <td>1459.33</td>\n",
       "    </tr>\n",
       "    <tr>\n",
       "      <th>2</th>\n",
       "      <td>3</td>\n",
       "      <td>2019-11-21</td>\n",
       "      <td>IBM - International Business Machines Corporation</td>\n",
       "      <td>133.84</td>\n",
       "      <td>+0.64 (+0.48%)</td>\n",
       "      <td>133.84</td>\n",
       "      <td>133.20</td>\n",
       "      <td>133.40</td>\n",
       "      <td>132.98 - 134.17</td>\n",
       "      <td>105.94 - 152.95</td>\n",
       "      <td>2732256.00</td>\n",
       "      <td>3483052.0</td>\n",
       "      <td>118.534B</td>\n",
       "      <td>1.34</td>\n",
       "      <td>15.55</td>\n",
       "      <td>8.60</td>\n",
       "      <td>21-Jan-20</td>\n",
       "      <td>6.48 (4.86%)</td>\n",
       "      <td>148.30</td>\n",
       "    </tr>\n",
       "    <tr>\n",
       "      <th>3</th>\n",
       "      <td>4</td>\n",
       "      <td>2019-11-21</td>\n",
       "      <td>MSFT - Microsoft Corporation</td>\n",
       "      <td>149.48</td>\n",
       "      <td>-0.14 (-0.09%)</td>\n",
       "      <td>149.48</td>\n",
       "      <td>149.62</td>\n",
       "      <td>149.40</td>\n",
       "      <td>148.51 - 149.80</td>\n",
       "      <td>93.96 - 151.33</td>\n",
       "      <td>16125077.00</td>\n",
       "      <td>22813109.0</td>\n",
       "      <td>1.14T</td>\n",
       "      <td>1.23</td>\n",
       "      <td>28.20</td>\n",
       "      <td>5.30</td>\n",
       "      <td>Jan 28, 2020 - Feb 3, 2020</td>\n",
       "      <td>2.04 (1.36%)</td>\n",
       "      <td>160.16</td>\n",
       "    </tr>\n",
       "    <tr>\n",
       "      <th>4</th>\n",
       "      <td>5</td>\n",
       "      <td>2019-11-21</td>\n",
       "      <td>AAPL - Apple Inc.</td>\n",
       "      <td>262.01</td>\n",
       "      <td>-1.18 (-0.45%)</td>\n",
       "      <td>262.01</td>\n",
       "      <td>263.19</td>\n",
       "      <td>263.69</td>\n",
       "      <td>261.18 - 264.01</td>\n",
       "      <td>142.00 - 268.00</td>\n",
       "      <td>28768117.00</td>\n",
       "      <td>25813040.0</td>\n",
       "      <td>1.184T</td>\n",
       "      <td>1.25</td>\n",
       "      <td>22.04</td>\n",
       "      <td>11.89</td>\n",
       "      <td>Jan 27, 2020 - Jan 31, 2020</td>\n",
       "      <td>3.08 (1.16%)</td>\n",
       "      <td>257.21</td>\n",
       "    </tr>\n",
       "  </tbody>\n",
       "</table>\n",
       "</div>"
      ],
      "text/plain": [
       "   no       date  ... Dividend Yield  1Y target est\n",
       "0   1 2019-11-21  ...      N/A (N/A)        1487.52\n",
       "1   2 2019-11-21  ...      N/A (N/A)        1459.33\n",
       "2   3 2019-11-21  ...   6.48 (4.86%)         148.30\n",
       "3   4 2019-11-21  ...   2.04 (1.36%)         160.16\n",
       "4   5 2019-11-21  ...   3.08 (1.16%)         257.21\n",
       "\n",
       "[5 rows x 19 columns]"
      ]
     },
     "execution_count": 12,
     "metadata": {
      "tags": []
     },
     "output_type": "execute_result"
    }
   ],
   "source": [
    "# I converted the date column to datetime in 9 above.\n",
    "df.head()"
   ]
  },
  {
   "cell_type": "code",
   "execution_count": 13,
   "id": "technological-protest",
   "metadata": {
    "colab": {
     "base_uri": "https://localhost:8080/"
    },
    "id": "technological-protest",
    "outputId": "5c19b444-27ef-4aba-8da2-179668ea28e0"
   },
   "outputs": [
    {
     "name": "stdout",
     "output_type": "stream",
     "text": [
      "Maximum date: 2020-04-28 00:00:00\n"
     ]
    }
   ],
   "source": [
    "max_date = df.date.max()\n",
    "print(f'Maximum date: {max_date}')"
   ]
  },
  {
   "cell_type": "code",
   "execution_count": 14,
   "id": "operating-philosophy",
   "metadata": {
    "id": "operating-philosophy"
   },
   "outputs": [],
   "source": [
    "# Subtract all dates from max date column\n",
    "df[\"days_from_max_date\"] = max_date - df.date"
   ]
  },
  {
   "cell_type": "code",
   "execution_count": 15,
   "id": "liked-france",
   "metadata": {
    "colab": {
     "base_uri": "https://localhost:8080/",
     "height": 676
    },
    "id": "liked-france",
    "outputId": "d9dcac55-0450-4319-bd12-78bf8c488aee"
   },
   "outputs": [
    {
     "data": {
      "text/html": [
       "<div>\n",
       "<style scoped>\n",
       "    .dataframe tbody tr th:only-of-type {\n",
       "        vertical-align: middle;\n",
       "    }\n",
       "\n",
       "    .dataframe tbody tr th {\n",
       "        vertical-align: top;\n",
       "    }\n",
       "\n",
       "    .dataframe thead th {\n",
       "        text-align: right;\n",
       "    }\n",
       "</style>\n",
       "<table border=\"1\" class=\"dataframe\">\n",
       "  <thead>\n",
       "    <tr style=\"text-align: right;\">\n",
       "      <th></th>\n",
       "      <th>date</th>\n",
       "      <th>days_from_max_date</th>\n",
       "    </tr>\n",
       "  </thead>\n",
       "  <tbody>\n",
       "    <tr>\n",
       "      <th>3068</th>\n",
       "      <td>2019-12-12</td>\n",
       "      <td>138 days</td>\n",
       "    </tr>\n",
       "    <tr>\n",
       "      <th>55647</th>\n",
       "      <td>2020-04-07</td>\n",
       "      <td>21 days</td>\n",
       "    </tr>\n",
       "    <tr>\n",
       "      <th>47103</th>\n",
       "      <td>2020-03-20</td>\n",
       "      <td>39 days</td>\n",
       "    </tr>\n",
       "    <tr>\n",
       "      <th>39040</th>\n",
       "      <td>2020-03-09</td>\n",
       "      <td>50 days</td>\n",
       "    </tr>\n",
       "    <tr>\n",
       "      <th>63209</th>\n",
       "      <td>2020-04-21</td>\n",
       "      <td>7 days</td>\n",
       "    </tr>\n",
       "    <tr>\n",
       "      <th>63687</th>\n",
       "      <td>2020-04-21</td>\n",
       "      <td>7 days</td>\n",
       "    </tr>\n",
       "    <tr>\n",
       "      <th>63983</th>\n",
       "      <td>2020-04-21</td>\n",
       "      <td>7 days</td>\n",
       "    </tr>\n",
       "    <tr>\n",
       "      <th>12470</th>\n",
       "      <td>2020-01-02</td>\n",
       "      <td>117 days</td>\n",
       "    </tr>\n",
       "    <tr>\n",
       "      <th>38261</th>\n",
       "      <td>2020-03-06</td>\n",
       "      <td>53 days</td>\n",
       "    </tr>\n",
       "    <tr>\n",
       "      <th>37477</th>\n",
       "      <td>2020-03-05</td>\n",
       "      <td>54 days</td>\n",
       "    </tr>\n",
       "    <tr>\n",
       "      <th>43799</th>\n",
       "      <td>2020-03-17</td>\n",
       "      <td>42 days</td>\n",
       "    </tr>\n",
       "    <tr>\n",
       "      <th>63707</th>\n",
       "      <td>2020-04-21</td>\n",
       "      <td>7 days</td>\n",
       "    </tr>\n",
       "    <tr>\n",
       "      <th>17911</th>\n",
       "      <td>2020-01-22</td>\n",
       "      <td>97 days</td>\n",
       "    </tr>\n",
       "    <tr>\n",
       "      <th>48572</th>\n",
       "      <td>2020-03-24</td>\n",
       "      <td>35 days</td>\n",
       "    </tr>\n",
       "    <tr>\n",
       "      <th>2367</th>\n",
       "      <td>2019-12-11</td>\n",
       "      <td>139 days</td>\n",
       "    </tr>\n",
       "    <tr>\n",
       "      <th>54548</th>\n",
       "      <td>2020-04-03</td>\n",
       "      <td>25 days</td>\n",
       "    </tr>\n",
       "    <tr>\n",
       "      <th>5664</th>\n",
       "      <td>2019-12-18</td>\n",
       "      <td>132 days</td>\n",
       "    </tr>\n",
       "    <tr>\n",
       "      <th>53478</th>\n",
       "      <td>2020-04-02</td>\n",
       "      <td>26 days</td>\n",
       "    </tr>\n",
       "    <tr>\n",
       "      <th>62250</th>\n",
       "      <td>2020-04-17</td>\n",
       "      <td>11 days</td>\n",
       "    </tr>\n",
       "    <tr>\n",
       "      <th>42918</th>\n",
       "      <td>2020-03-16</td>\n",
       "      <td>43 days</td>\n",
       "    </tr>\n",
       "  </tbody>\n",
       "</table>\n",
       "</div>"
      ],
      "text/plain": [
       "            date days_from_max_date\n",
       "3068  2019-12-12           138 days\n",
       "55647 2020-04-07            21 days\n",
       "47103 2020-03-20            39 days\n",
       "39040 2020-03-09            50 days\n",
       "63209 2020-04-21             7 days\n",
       "63687 2020-04-21             7 days\n",
       "63983 2020-04-21             7 days\n",
       "12470 2020-01-02           117 days\n",
       "38261 2020-03-06            53 days\n",
       "37477 2020-03-05            54 days\n",
       "43799 2020-03-17            42 days\n",
       "63707 2020-04-21             7 days\n",
       "17911 2020-01-22            97 days\n",
       "48572 2020-03-24            35 days\n",
       "2367  2019-12-11           139 days\n",
       "54548 2020-04-03            25 days\n",
       "5664  2019-12-18           132 days\n",
       "53478 2020-04-02            26 days\n",
       "62250 2020-04-17            11 days\n",
       "42918 2020-03-16            43 days"
      ]
     },
     "execution_count": 15,
     "metadata": {
      "tags": []
     },
     "output_type": "execute_result"
    }
   ],
   "source": [
    "# Confirmation, everything is as expected\n",
    "df[['date', 'days_from_max_date']].sample(20)"
   ]
  },
  {
   "cell_type": "code",
   "execution_count": 16,
   "id": "tamil-italian",
   "metadata": {
    "id": "tamil-italian"
   },
   "outputs": [],
   "source": [
    "import numpy as np\n",
    "# Convert to months, this is a constant month of 31 days.\n",
    "# Divide the days_from_max_date series by a NumPy scalar of the number of days in a month.\n",
    "df['months_from_max_date'] = df['days_from_max_date'] / np.timedelta64(1, \"M\")"
   ]
  },
  {
   "cell_type": "code",
   "execution_count": 17,
   "id": "vanilla-snowboard",
   "metadata": {
    "colab": {
     "base_uri": "https://localhost:8080/",
     "height": 676
    },
    "id": "vanilla-snowboard",
    "outputId": "7692dece-4b2b-47e3-c213-afb2375ab05f"
   },
   "outputs": [
    {
     "data": {
      "text/html": [
       "<div>\n",
       "<style scoped>\n",
       "    .dataframe tbody tr th:only-of-type {\n",
       "        vertical-align: middle;\n",
       "    }\n",
       "\n",
       "    .dataframe tbody tr th {\n",
       "        vertical-align: top;\n",
       "    }\n",
       "\n",
       "    .dataframe thead th {\n",
       "        text-align: right;\n",
       "    }\n",
       "</style>\n",
       "<table border=\"1\" class=\"dataframe\">\n",
       "  <thead>\n",
       "    <tr style=\"text-align: right;\">\n",
       "      <th></th>\n",
       "      <th>date</th>\n",
       "      <th>days_from_max_date</th>\n",
       "      <th>months_from_max_date</th>\n",
       "    </tr>\n",
       "  </thead>\n",
       "  <tbody>\n",
       "    <tr>\n",
       "      <th>3485</th>\n",
       "      <td>2019-12-13</td>\n",
       "      <td>137 days</td>\n",
       "      <td>4.501119</td>\n",
       "    </tr>\n",
       "    <tr>\n",
       "      <th>24795</th>\n",
       "      <td>2020-02-10</td>\n",
       "      <td>78 days</td>\n",
       "      <td>2.562681</td>\n",
       "    </tr>\n",
       "    <tr>\n",
       "      <th>50792</th>\n",
       "      <td>2020-03-27</td>\n",
       "      <td>32 days</td>\n",
       "      <td>1.051356</td>\n",
       "    </tr>\n",
       "    <tr>\n",
       "      <th>35743</th>\n",
       "      <td>2020-03-03</td>\n",
       "      <td>56 days</td>\n",
       "      <td>1.839874</td>\n",
       "    </tr>\n",
       "    <tr>\n",
       "      <th>35986</th>\n",
       "      <td>2020-03-04</td>\n",
       "      <td>55 days</td>\n",
       "      <td>1.807019</td>\n",
       "    </tr>\n",
       "    <tr>\n",
       "      <th>19539</th>\n",
       "      <td>2020-01-31</td>\n",
       "      <td>88 days</td>\n",
       "      <td>2.891230</td>\n",
       "    </tr>\n",
       "    <tr>\n",
       "      <th>11951</th>\n",
       "      <td>2019-12-31</td>\n",
       "      <td>119 days</td>\n",
       "      <td>3.909731</td>\n",
       "    </tr>\n",
       "    <tr>\n",
       "      <th>58770</th>\n",
       "      <td>2020-04-13</td>\n",
       "      <td>15 days</td>\n",
       "      <td>0.492823</td>\n",
       "    </tr>\n",
       "    <tr>\n",
       "      <th>35990</th>\n",
       "      <td>2020-03-04</td>\n",
       "      <td>55 days</td>\n",
       "      <td>1.807019</td>\n",
       "    </tr>\n",
       "    <tr>\n",
       "      <th>44693</th>\n",
       "      <td>2020-03-18</td>\n",
       "      <td>41 days</td>\n",
       "      <td>1.347050</td>\n",
       "    </tr>\n",
       "    <tr>\n",
       "      <th>16320</th>\n",
       "      <td>2020-01-17</td>\n",
       "      <td>102 days</td>\n",
       "      <td>3.351198</td>\n",
       "    </tr>\n",
       "    <tr>\n",
       "      <th>27489</th>\n",
       "      <td>2020-02-14</td>\n",
       "      <td>74 days</td>\n",
       "      <td>2.431261</td>\n",
       "    </tr>\n",
       "    <tr>\n",
       "      <th>22959</th>\n",
       "      <td>2020-02-06</td>\n",
       "      <td>82 days</td>\n",
       "      <td>2.694100</td>\n",
       "    </tr>\n",
       "    <tr>\n",
       "      <th>37523</th>\n",
       "      <td>2020-03-05</td>\n",
       "      <td>54 days</td>\n",
       "      <td>1.774164</td>\n",
       "    </tr>\n",
       "    <tr>\n",
       "      <th>12503</th>\n",
       "      <td>2020-01-02</td>\n",
       "      <td>117 days</td>\n",
       "      <td>3.844021</td>\n",
       "    </tr>\n",
       "    <tr>\n",
       "      <th>34629</th>\n",
       "      <td>2020-03-02</td>\n",
       "      <td>57 days</td>\n",
       "      <td>1.872728</td>\n",
       "    </tr>\n",
       "    <tr>\n",
       "      <th>9840</th>\n",
       "      <td>2019-12-26</td>\n",
       "      <td>124 days</td>\n",
       "      <td>4.074006</td>\n",
       "    </tr>\n",
       "    <tr>\n",
       "      <th>6551</th>\n",
       "      <td>2019-12-19</td>\n",
       "      <td>131 days</td>\n",
       "      <td>4.303990</td>\n",
       "    </tr>\n",
       "    <tr>\n",
       "      <th>36135</th>\n",
       "      <td>2020-03-04</td>\n",
       "      <td>55 days</td>\n",
       "      <td>1.807019</td>\n",
       "    </tr>\n",
       "    <tr>\n",
       "      <th>13922</th>\n",
       "      <td>2020-01-06</td>\n",
       "      <td>113 days</td>\n",
       "      <td>3.712602</td>\n",
       "    </tr>\n",
       "  </tbody>\n",
       "</table>\n",
       "</div>"
      ],
      "text/plain": [
       "            date days_from_max_date  months_from_max_date\n",
       "3485  2019-12-13           137 days              4.501119\n",
       "24795 2020-02-10            78 days              2.562681\n",
       "50792 2020-03-27            32 days              1.051356\n",
       "35743 2020-03-03            56 days              1.839874\n",
       "35986 2020-03-04            55 days              1.807019\n",
       "19539 2020-01-31            88 days              2.891230\n",
       "11951 2019-12-31           119 days              3.909731\n",
       "58770 2020-04-13            15 days              0.492823\n",
       "35990 2020-03-04            55 days              1.807019\n",
       "44693 2020-03-18            41 days              1.347050\n",
       "16320 2020-01-17           102 days              3.351198\n",
       "27489 2020-02-14            74 days              2.431261\n",
       "22959 2020-02-06            82 days              2.694100\n",
       "37523 2020-03-05            54 days              1.774164\n",
       "12503 2020-01-02           117 days              3.844021\n",
       "34629 2020-03-02            57 days              1.872728\n",
       "9840  2019-12-26           124 days              4.074006\n",
       "6551  2019-12-19           131 days              4.303990\n",
       "36135 2020-03-04            55 days              1.807019\n",
       "13922 2020-01-06           113 days              3.712602"
      ]
     },
     "execution_count": 17,
     "metadata": {
      "tags": []
     },
     "output_type": "execute_result"
    }
   ],
   "source": [
    "# Confirmation, everything is as expected\n",
    "df[['date', 'days_from_max_date', 'months_from_max_date']].sample(20)"
   ]
  },
  {
   "cell_type": "code",
   "execution_count": 18,
   "id": "wound-journey",
   "metadata": {
    "id": "wound-journey"
   },
   "outputs": [],
   "source": [
    "# df.to_csv('stocks_w_date_diff.csv')"
   ]
  },
  {
   "cell_type": "markdown",
   "id": "marked-bumper",
   "metadata": {
    "id": "marked-bumper"
   },
   "source": [
    "## Assignment 3\n",
    "Create three plots utilizing seaborn."
   ]
  },
  {
   "cell_type": "code",
   "execution_count": 19,
   "id": "normal-sunrise",
   "metadata": {
    "id": "normal-sunrise"
   },
   "outputs": [],
   "source": [
    "# Import plotting libraries\n",
    "import matplotlib.pyplot as plt\n",
    "import seaborn as sns"
   ]
  },
  {
   "cell_type": "markdown",
   "id": "amber-asian",
   "metadata": {
    "id": "amber-asian"
   },
   "source": [
    "### Feature Engineering\n",
    "Some columns are not useful for analysis as they currently stand. I will be converting the 52 week range into two columns representing the min and max 52 week value, the daily price range into daily min and max values, and the price change into a percent change and absolute change value."
   ]
  },
  {
   "cell_type": "code",
   "execution_count": 20,
   "id": "improved-meter",
   "metadata": {
    "id": "improved-meter",
    "scrolled": false
   },
   "outputs": [],
   "source": [
    "# Split out 52 week price range into min and max value\n",
    "new = df['52 week range'].str.split(' - ', n=1, expand=True)\n",
    "df['min_52'] = new[0]\n",
    "df['max_52'] = new[1]\n",
    "df.drop(columns='52 week range', inplace=True)"
   ]
  },
  {
   "cell_type": "code",
   "execution_count": 21,
   "id": "dietary-finland",
   "metadata": {
    "id": "dietary-finland"
   },
   "outputs": [],
   "source": [
    "# Split daily range into min and max value\n",
    "new = df['price range'].str.split(' - ', n=1, expand=True)\n",
    "df['min_daily'] = new[0]\n",
    "df['max_daily'] = new[1]\n",
    "df.drop(columns='price range', inplace=True)\n"
   ]
  },
  {
   "cell_type": "code",
   "execution_count": 22,
   "id": "universal-liberal",
   "metadata": {
    "id": "universal-liberal"
   },
   "outputs": [],
   "source": [
    "# Split price change into pct change and actual change\n",
    "new = df['price_change'].str.split(' ', n=1, expand=True)\n",
    "df['price_chng'] = new[0]\n",
    "df['price_chng_pct'] = new[1].str[1:-2]\n",
    "df.drop(columns='price_change', inplace=True)"
   ]
  },
  {
   "cell_type": "code",
   "execution_count": 23,
   "id": "dying-conditions",
   "metadata": {
    "colab": {
     "base_uri": "https://localhost:8080/",
     "height": 503
    },
    "id": "dying-conditions",
    "outputId": "5520f57f-4a4e-4548-ba0d-432e0a443590"
   },
   "outputs": [
    {
     "data": {
      "text/html": [
       "<div>\n",
       "<style scoped>\n",
       "    .dataframe tbody tr th:only-of-type {\n",
       "        vertical-align: middle;\n",
       "    }\n",
       "\n",
       "    .dataframe tbody tr th {\n",
       "        vertical-align: top;\n",
       "    }\n",
       "\n",
       "    .dataframe thead th {\n",
       "        text-align: right;\n",
       "    }\n",
       "</style>\n",
       "<table border=\"1\" class=\"dataframe\">\n",
       "  <thead>\n",
       "    <tr style=\"text-align: right;\">\n",
       "      <th></th>\n",
       "      <th>no</th>\n",
       "      <th>date</th>\n",
       "      <th>company_name</th>\n",
       "      <th>price_at_close</th>\n",
       "      <th>price_after_hours</th>\n",
       "      <th>previous_close</th>\n",
       "      <th>today opened</th>\n",
       "      <th>volume</th>\n",
       "      <th>average volume</th>\n",
       "      <th>market cap</th>\n",
       "      <th>beta (3Y Monthly)</th>\n",
       "      <th>PE Ratio</th>\n",
       "      <th>EPS</th>\n",
       "      <th>earnings date</th>\n",
       "      <th>Dividend Yield</th>\n",
       "      <th>1Y target est</th>\n",
       "      <th>days_from_max_date</th>\n",
       "      <th>months_from_max_date</th>\n",
       "      <th>min_52</th>\n",
       "      <th>max_52</th>\n",
       "      <th>min_daily</th>\n",
       "      <th>max_daily</th>\n",
       "      <th>price_chng</th>\n",
       "      <th>price_chng_pct</th>\n",
       "    </tr>\n",
       "  </thead>\n",
       "  <tbody>\n",
       "    <tr>\n",
       "      <th>0</th>\n",
       "      <td>1</td>\n",
       "      <td>2019-11-21</td>\n",
       "      <td>GOOG - Alphabet Inc.</td>\n",
       "      <td>1301.35</td>\n",
       "      <td>1301.35</td>\n",
       "      <td>1303.05</td>\n",
       "      <td>1301.48</td>\n",
       "      <td>825205.00</td>\n",
       "      <td>1280155.0</td>\n",
       "      <td>897.113B</td>\n",
       "      <td>1.01</td>\n",
       "      <td>27.93</td>\n",
       "      <td>46.60</td>\n",
       "      <td>NaN</td>\n",
       "      <td>N/A (N/A)</td>\n",
       "      <td>1487.52</td>\n",
       "      <td>159 days</td>\n",
       "      <td>5.223927</td>\n",
       "      <td>970.11</td>\n",
       "      <td>1,335.53</td>\n",
       "      <td>1,293.01</td>\n",
       "      <td>1,312.45</td>\n",
       "      <td>-1.70</td>\n",
       "      <td>-0.13</td>\n",
       "    </tr>\n",
       "    <tr>\n",
       "      <th>1</th>\n",
       "      <td>2</td>\n",
       "      <td>2019-11-21</td>\n",
       "      <td>GOOGL - Alphabet Inc.</td>\n",
       "      <td>1300.14</td>\n",
       "      <td>1300.14</td>\n",
       "      <td>1301.86</td>\n",
       "      <td>1299.25</td>\n",
       "      <td>1058179.00</td>\n",
       "      <td>1296875.0</td>\n",
       "      <td>897.098B</td>\n",
       "      <td>1.01</td>\n",
       "      <td>27.90</td>\n",
       "      <td>46.60</td>\n",
       "      <td>Feb 3, 2020 - Feb 7, 2020</td>\n",
       "      <td>N/A (N/A)</td>\n",
       "      <td>1459.33</td>\n",
       "      <td>159 days</td>\n",
       "      <td>5.223927</td>\n",
       "      <td>977.66</td>\n",
       "      <td>1,333.92</td>\n",
       "      <td>1,290.75</td>\n",
       "      <td>1,311.04</td>\n",
       "      <td>-1.72</td>\n",
       "      <td>-0.13</td>\n",
       "    </tr>\n",
       "    <tr>\n",
       "      <th>2</th>\n",
       "      <td>3</td>\n",
       "      <td>2019-11-21</td>\n",
       "      <td>IBM - International Business Machines Corporation</td>\n",
       "      <td>133.84</td>\n",
       "      <td>133.84</td>\n",
       "      <td>133.20</td>\n",
       "      <td>133.40</td>\n",
       "      <td>2732256.00</td>\n",
       "      <td>3483052.0</td>\n",
       "      <td>118.534B</td>\n",
       "      <td>1.34</td>\n",
       "      <td>15.55</td>\n",
       "      <td>8.60</td>\n",
       "      <td>21-Jan-20</td>\n",
       "      <td>6.48 (4.86%)</td>\n",
       "      <td>148.30</td>\n",
       "      <td>159 days</td>\n",
       "      <td>5.223927</td>\n",
       "      <td>105.94</td>\n",
       "      <td>152.95</td>\n",
       "      <td>132.98</td>\n",
       "      <td>134.17</td>\n",
       "      <td>+0.64</td>\n",
       "      <td>+0.48</td>\n",
       "    </tr>\n",
       "    <tr>\n",
       "      <th>3</th>\n",
       "      <td>4</td>\n",
       "      <td>2019-11-21</td>\n",
       "      <td>MSFT - Microsoft Corporation</td>\n",
       "      <td>149.48</td>\n",
       "      <td>149.48</td>\n",
       "      <td>149.62</td>\n",
       "      <td>149.40</td>\n",
       "      <td>16125077.00</td>\n",
       "      <td>22813109.0</td>\n",
       "      <td>1.14T</td>\n",
       "      <td>1.23</td>\n",
       "      <td>28.20</td>\n",
       "      <td>5.30</td>\n",
       "      <td>Jan 28, 2020 - Feb 3, 2020</td>\n",
       "      <td>2.04 (1.36%)</td>\n",
       "      <td>160.16</td>\n",
       "      <td>159 days</td>\n",
       "      <td>5.223927</td>\n",
       "      <td>93.96</td>\n",
       "      <td>151.33</td>\n",
       "      <td>148.51</td>\n",
       "      <td>149.80</td>\n",
       "      <td>-0.14</td>\n",
       "      <td>-0.09</td>\n",
       "    </tr>\n",
       "    <tr>\n",
       "      <th>4</th>\n",
       "      <td>5</td>\n",
       "      <td>2019-11-21</td>\n",
       "      <td>AAPL - Apple Inc.</td>\n",
       "      <td>262.01</td>\n",
       "      <td>262.01</td>\n",
       "      <td>263.19</td>\n",
       "      <td>263.69</td>\n",
       "      <td>28768117.00</td>\n",
       "      <td>25813040.0</td>\n",
       "      <td>1.184T</td>\n",
       "      <td>1.25</td>\n",
       "      <td>22.04</td>\n",
       "      <td>11.89</td>\n",
       "      <td>Jan 27, 2020 - Jan 31, 2020</td>\n",
       "      <td>3.08 (1.16%)</td>\n",
       "      <td>257.21</td>\n",
       "      <td>159 days</td>\n",
       "      <td>5.223927</td>\n",
       "      <td>142.00</td>\n",
       "      <td>268.00</td>\n",
       "      <td>261.18</td>\n",
       "      <td>264.01</td>\n",
       "      <td>-1.18</td>\n",
       "      <td>-0.45</td>\n",
       "    </tr>\n",
       "  </tbody>\n",
       "</table>\n",
       "</div>"
      ],
      "text/plain": [
       "   no       date  ... price_chng  price_chng_pct\n",
       "0   1 2019-11-21  ...      -1.70           -0.13\n",
       "1   2 2019-11-21  ...      -1.72           -0.13\n",
       "2   3 2019-11-21  ...      +0.64           +0.48\n",
       "3   4 2019-11-21  ...      -0.14           -0.09\n",
       "4   5 2019-11-21  ...      -1.18           -0.45\n",
       "\n",
       "[5 rows x 24 columns]"
      ]
     },
     "execution_count": 23,
     "metadata": {
      "tags": []
     },
     "output_type": "execute_result"
    }
   ],
   "source": [
    "df.head()"
   ]
  },
  {
   "cell_type": "code",
   "execution_count": 24,
   "id": "A3_m5HJyC5M8",
   "metadata": {
    "id": "A3_m5HJyC5M8"
   },
   "outputs": [],
   "source": [
    "cols_to_numeric = ['price_at_close', 'price_after_hours', 'previous_close', 'today opened', 'volume', 'average volume', 'beta (3Y Monthly)', 'PE Ratio', 'EPS', 'min_52', 'max_52', 'min_daily', 'max_daily', 'price_chng', 'price_chng_pct']\n",
    "\n",
    "df[cols_to_numeric] = df[cols_to_numeric].apply(pd.to_numeric, errors='coerce', axis=1)"
   ]
  },
  {
   "cell_type": "code",
   "execution_count": 25,
   "id": "introductory-spectrum",
   "metadata": {
    "colab": {
     "base_uri": "https://localhost:8080/"
    },
    "id": "introductory-spectrum",
    "outputId": "a129dd85-812e-4034-838b-c22ef7adf9d6"
   },
   "outputs": [
    {
     "name": "stdout",
     "output_type": "stream",
     "text": [
      "<class 'pandas.core.frame.DataFrame'>\n",
      "RangeIndex: 67905 entries, 0 to 67904\n",
      "Data columns (total 24 columns):\n",
      " #   Column                Non-Null Count  Dtype          \n",
      "---  ------                --------------  -----          \n",
      " 0   no                    67905 non-null  int64          \n",
      " 1   date                  67905 non-null  datetime64[ns] \n",
      " 2   company_name          67905 non-null  object         \n",
      " 3   price_at_close        67761 non-null  float64        \n",
      " 4   price_after_hours     67761 non-null  float64        \n",
      " 5   previous_close        67761 non-null  float64        \n",
      " 6   today opened          67750 non-null  float64        \n",
      " 7   volume                67716 non-null  float64        \n",
      " 8   average volume        66584 non-null  float64        \n",
      " 9   market cap            67298 non-null  object         \n",
      " 10  beta (3Y Monthly)     63163 non-null  float64        \n",
      " 11  PE Ratio              60220 non-null  float64        \n",
      " 12  EPS                   64962 non-null  float64        \n",
      " 13  earnings date         57611 non-null  object         \n",
      " 14  Dividend Yield        67625 non-null  object         \n",
      " 15  1Y target est         57931 non-null  float64        \n",
      " 16  days_from_max_date    67905 non-null  timedelta64[ns]\n",
      " 17  months_from_max_date  67905 non-null  float64        \n",
      " 18  min_52                67105 non-null  float64        \n",
      " 19  max_52                66991 non-null  float64        \n",
      " 20  min_daily             67120 non-null  float64        \n",
      " 21  max_daily             67079 non-null  float64        \n",
      " 22  price_chng            67698 non-null  float64        \n",
      " 23  price_chng_pct        67761 non-null  float64        \n",
      "dtypes: datetime64[ns](1), float64(17), int64(1), object(4), timedelta64[ns](1)\n",
      "memory usage: 12.4+ MB\n"
     ]
    }
   ],
   "source": [
    "df.info()"
   ]
  },
  {
   "cell_type": "code",
   "execution_count": 26,
   "id": "jxbM-RkWHsFE",
   "metadata": {
    "colab": {
     "base_uri": "https://localhost:8080/"
    },
    "id": "jxbM-RkWHsFE",
    "outputId": "01f80d15-3881-4faa-9a77-70f6866dd387"
   },
   "outputs": [
    {
     "data": {
      "text/plain": [
       "array(['GOOG - Alphabet Inc.', 'GOOGL - Alphabet Inc.',\n",
       "       'IBM - International Business Machines Corporation',\n",
       "       'MSFT - Microsoft Corporation', 'AAPL - Apple Inc.',\n",
       "       'AMZN - Amazon.com, Inc.', 'CGC - Canopy Growth Corporation',\n",
       "       'ORCL - Oracle Corporation', 'FIVN - Five9, Inc.',\n",
       "       'JPM - JPMorgan Chase & Co.', 'USB - U.S. Bancorp',\n",
       "       'AEP - American Electric Power Company, Inc.',\n",
       "       'SCHW - The Charles Schwab Corporation',\n",
       "       'UPS - United Parcel Service, Inc.',\n",
       "       'UBER - Uber Technologies, Inc.', 'LYFT - Lyft, Inc.',\n",
       "       'NKE - NIKE, Inc.', 'BA - The Boeing Company',\n",
       "       'XOM - Exxon Mobil Corporation',\n",
       "       'OXY - Occidental Petroleum Corporation',\n",
       "       'CVX - Chevron Corporation',\n",
       "       'CSL - Carlisle Companies Incorporated',\n",
       "       'MPC - Marathon Petroleum Corporation',\n",
       "       'DK - Delek US Holdings, Inc.', 'TOT - TOTAL S.A.',\n",
       "       'VLO - Valero Energy Corporation', 'EC - Ecopetrol S.A.',\n",
       "       'CVI - CVR Energy, Inc.', 'DELL - Dell Technologies Inc.',\n",
       "       'ADBE - Adobe Inc.'], dtype=object)"
      ]
     },
     "execution_count": 26,
     "metadata": {
      "tags": []
     },
     "output_type": "execute_result"
    }
   ],
   "source": [
    "df.company_name.unique()[0:30]"
   ]
  },
  {
   "cell_type": "code",
   "execution_count": 27,
   "id": "uTLQNGnXEdJN",
   "metadata": {
    "colab": {
     "base_uri": "https://localhost:8080/"
    },
    "id": "uTLQNGnXEdJN",
    "outputId": "26161b48-6f4c-4b4f-cca1-c8f65671568e"
   },
   "outputs": [
    {
     "data": {
      "text/plain": [
       "array(['GOOG - Alphabet Inc.', 'MSFT - Microsoft Corporation',\n",
       "       'AAPL - Apple Inc.', 'AMZN - Amazon.com, Inc.'], dtype=object)"
      ]
     },
     "execution_count": 27,
     "metadata": {
      "tags": []
     },
     "output_type": "execute_result"
    }
   ],
   "source": [
    "\n",
    "df_big3 = df[(df['company_name'] == 'GOOG - Alphabet Inc.') | (df['company_name'] == 'AMZN - Amazon.com, Inc.') | (df['company_name'] == 'MSFT - Microsoft Corporation') | (df['company_name'] == 'AAPL - Apple Inc.')]\n",
    "df_big3.company_name.unique()\n",
    "\n"
   ]
  },
  {
   "cell_type": "code",
   "execution_count": 28,
   "id": "OIX687-bJ0ZW",
   "metadata": {
    "colab": {
     "base_uri": "https://localhost:8080/",
     "height": 339
    },
    "id": "OIX687-bJ0ZW",
    "outputId": "5ddb862d-7b02-496b-df44-ef6436346a1c"
   },
   "outputs": [
    {
     "data": {
      "image/png": "[encoded data removed]",
      "text/plain": [
       "<Figure size 504x360 with 1 Axes>"
      ]
     },
     "metadata": {
      "tags": []
     },
     "output_type": "display_data"
    }
   ],
   "source": [
    "import matplotlib as mlt\n",
    "sns.set_theme(style=\"ticks\")\n",
    "f, ax = plt.subplots(figsize=(7, 5))\n",
    "sns.despine(f)\n",
    "\n",
    "sns.histplot(\n",
    "    df_big3,\n",
    "    x=\"volume\", hue=\"company_name\",\n",
    "    multiple=\"stack\",\n",
    "    palette=\"light:m_r\",\n",
    "    edgecolor=\".3\",\n",
    "    linewidth=.5,\n",
    "    log_scale=True,\n",
    ")\n",
    "ax.xaxis.set_major_formatter(mlt.ticker.ScalarFormatter())"
   ]
  },
  {
   "cell_type": "code",
   "execution_count": 29,
   "id": "sticky-round",
   "metadata": {
    "colab": {
     "base_uri": "https://localhost:8080/",
     "height": 482
    },
    "id": "sticky-round",
    "outputId": "52f29f46-84e8-409c-9bb4-ccc82d2d79e4"
   },
   "outputs": [
    {
     "data": {
      "text/plain": [
       "Text(0.5, 1.03, 'Hexbin Joint Plot of Volume and Price Change')"
      ]
     },
     "execution_count": 29,
     "metadata": {
      "tags": []
     },
     "output_type": "execute_result"
    },
    {
     "data": {
      "image/png": "[encoded data removed]",
      "text/plain": [
       "<Figure size 432x432 with 3 Axes>"
      ]
     },
     "metadata": {
      "needs_background": "light",
      "tags": []
     },
     "output_type": "display_data"
    }
   ],
   "source": [
    "\n",
    "%matplotlib inline\n",
    "hexbin = sns.jointplot(x=\"volume\", y=\"price_chng_pct\", data=df_big3, kind=\"hex\")\n",
    "\n",
    "hexbin.set_axis_labels(xlabel='Volume', ylabel='Price Change (pct)')\n",
    "\n",
    "hexbin.fig.suptitle('Hexbin Joint Plot of Volume and Price Change',\n",
    "\n",
    "                 fontsize=10, y=1.03)"
   ]
  },
  {
   "cell_type": "code",
   "execution_count": 30,
   "id": "PUS4ChBKLRfq",
   "metadata": {
    "colab": {
     "base_uri": "https://localhost:8080/",
     "height": 360
    },
    "id": "PUS4ChBKLRfq",
    "outputId": "c9bf8232-03d8-42e8-a040-e62060d23376"
   },
   "outputs": [
    {
     "data": {
      "image/png": "[encoded data removed]",
      "text/plain": [
       "<Figure size 504x360 with 1 Axes>"
      ]
     },
     "metadata": {
      "needs_background": "light",
      "tags": []
     },
     "output_type": "display_data"
    }
   ],
   "source": [
    "b, ax = plt.subplots(figsize=(7, 5))\n",
    "\n",
    "b = sns.boxplot(\n",
    "    data=df_big3,\n",
    "    x='company_name',\n",
    "    y='volume'\n",
    ")\n",
    "\n",
    "\n",
    "ax.set_xticklabels(('GOOG', 'MSFT', 'AAPL', 'AMZN'))\n",
    "ax.set_xlabel(\"Company\")\n",
    "sns.despine(offset=10, trim=True)\n",
    "plt.show()"
   ]
  },
  {
   "cell_type": "code",
   "execution_count": 42,
   "id": "j5DesMFHOOwS",
   "metadata": {
    "colab": {
     "base_uri": "https://localhost:8080/",
     "height": 733
    },
    "id": "j5DesMFHOOwS",
    "outputId": "08190bfb-8968-4ff6-8c4a-a2cc59ab4e75"
   },
   "outputs": [
    {
     "data": {
      "image/png": "[encoded data removed]",
      "text/plain": [
       "<Figure size 827.725x720 with 4 Axes>"
      ]
     },
     "metadata": {
      "needs_background": "light",
      "tags": []
     },
     "output_type": "display_data"
    }
   ],
   "source": [
    "# sc, ax = plt.subplots(figsize=(7,5))\n",
    "\n",
    "sc = sns.relplot(\n",
    "    data=df_big3,\n",
    "    x='volume',\n",
    "    y=df_big3['price_chng_pct'].abs(),\n",
    "    size=df_big3[\"volume\"] * 10,\n",
    "    hue=df_big3['price_chng_pct'].abs(),\n",
    "    col=\"company_name\",\n",
    "    kind=\"scatter\",\n",
    "    col_wrap=2,\n",
    "    facet_kws=dict(sharex=False)\n",
    ")\n",
    "\n",
    "sc.set_xlabels(\"Volume\")\n",
    "sc.set_ylabels(\"Absolute Pct - Daily Price Change\")\n",
    "\n",
    "plt.show()"
   ]
  }
 ],
 "metadata": {
  "colab": {
   "name": "JordanJenkins_AssignmentOne_Two.ipynb",
   "provenance": []
  },
  "kernelspec": {
   "display_name": "Python 3",
   "language": "python",
   "name": "python3"
  },
  "language_info": {
   "codemirror_mode": {
    "name": "ipython",
    "version": 3
   },
   "file_extension": ".py",
   "mimetype": "text/x-python",
   "name": "python",
   "nbconvert_exporter": "python",
   "pygments_lexer": "ipython3",
   "version": "3.8.5"
  }
 },
 "nbformat": 4,
 "nbformat_minor": 5
}
